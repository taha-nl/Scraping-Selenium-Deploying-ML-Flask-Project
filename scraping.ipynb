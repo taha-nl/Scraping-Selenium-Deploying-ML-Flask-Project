{
 "cells": [
  {
   "cell_type": "code",
   "execution_count": 1,
   "metadata": {},
   "outputs": [],
   "source": [
    "import time\n",
    "from selenium import webdriver\n",
    "from webdriver_manager.chrome import ChromeDriverManager\n",
    "from selenium.webdriver.common.by import By\n",
    "import undetected_chromedriver as uc\n",
    "import re\n",
    "import csv\n",
    "from itertools import zip_longest"
   ]
  },
  {
   "cell_type": "code",
   "execution_count": 2,
   "metadata": {},
   "outputs": [
    {
     "data": {
      "text/plain": [
       "1"
      ]
     },
     "execution_count": 2,
     "metadata": {},
     "output_type": "execute_result"
    }
   ],
   "source": [
    "1"
   ]
  },
  {
   "cell_type": "code",
   "execution_count": 3,
   "metadata": {},
   "outputs": [
    {
     "name": "stdout",
     "output_type": "stream",
     "text": [
      " x out worked\n"
     ]
    }
   ],
   "source": [
    "if __name__=='__main__':\n",
    "    \n",
    "    browser=uc.Chrome()\n",
    "\n",
    "    browser.maximize_window()\n",
    "    time.sleep(3)\n",
    "    for i in range(1,14):\n",
    "        try:\n",
    "\n",
    "                URL=f\"https://www.glassdoor.com/Job/san-francisco-data-scientist-jobs-SRCH_IL.0,13_IC1147401_KO14,28_IP{i}.htm?includeNoSalaryJobs=true&pgc=AB4ABIEAeAAAAAAAAAAAAAAAAfgJYmIAawEDASBaCRYHHwFZknTETS4gASB3iipZ7OP60ekum4F4nmdwTKKFWCbOL%2F6KJ2530%2BtOKQoqk%2F0rHqZb4p6yCaSWsFMGBF4bmyTMZ3VqxCLZfyTjTDVOZcI%2B1RDoxj02chJCcrfuFA4h2gp4AAA%3D\"\n",
    "\n",
    "\n",
    "                browser.get(URL)\n",
    "                time.sleep(2)\n",
    "                try:\n",
    "                        browser.find_element(By.XPATH,('//span[@alt=\"Close\"]')).click() #clicking to the X.\n",
    "                        print(' x out worked')\n",
    "                except:\n",
    "                        pass\n",
    "                time.sleep(1)\n",
    "                \n",
    "\n",
    "                job_titles=browser.find_elements(By.XPATH,('//a[@class=\"jobLink css-1rd3saf eigr9kq2\"]/span'))\n",
    "                company_names=browser.find_elements(By.XPATH,('//a[@class=\" css-l2wjgv e1n63ojh0 jobLink\"]/span'))\n",
    "                rating_zones=browser.find_elements(By.XPATH,('//div[@class=\"d-flex flex-column css-x75kgh e1rrn5ka3\"]'))\n",
    "                headquarters=browser.find_elements(By.XPATH,('//span[@data-test=\"emp-location\"]'))\n",
    "                salary=browser.find_elements(By.XPATH,('//span[@data-test=\"detailSalary\"]'))\n",
    "                links=browser.find_elements(By.XPATH,('//a[@class=\"jobLink css-1rd3saf eigr9kq2\"]'))\n",
    "\n",
    "                \n",
    "\n",
    "                job_titles_text=[job.text for job in job_titles]\n",
    "                company_names_text=[company_name.text for company_name in company_names]\n",
    "                headquarters_text=[headquarter.text for headquarter in headquarters]\n",
    "                salary_text=[salaire.text for salaire in salary[:-1]]\n",
    "                rating_text=[]\n",
    "                job_description=[]\n",
    "                size_company=[]\n",
    "                founded=[]\n",
    "                type=[]\n",
    "                industry=[]\n",
    "                sector=[]\n",
    "                revenue=[]\n",
    "\n",
    "                \n",
    "                for rating in rating_zones:\n",
    "                        try:\n",
    "                                rating_text.append(rating.find_element(By.XPATH,('span')).text)\n",
    "                        except:\n",
    "                                rating_text.append('nan')\n",
    "\n",
    "\n",
    "                for link in links:\n",
    "                        link.click()\n",
    "                        time.sleep(2)\n",
    "                        try:\n",
    "                                browser.find_element(By.XPATH,('//span[@alt=\"Close\"]')).click() #clicking to the X.\n",
    "                                print(' x out worked')\n",
    "                        except:\n",
    "                                pass\n",
    "                        time.sleep(1)\n",
    "                        job_description.append(browser.find_element(By.XPATH,('//div[@class=\"jobDescriptionContent desc\"]')).text[:100].strip())\n",
    "                        try:\n",
    "                                size_company.append(browser.find_element(By.XPATH,('(//div[@class=\"d-flex flex-wrap\"]/div[@class=\"d-flex justify-content-start css-rmzuhb e1pvx6aw0\"]/span)[2]')).text)\n",
    "                        except:\n",
    "                                size_company.append(\"nan\") \n",
    "                        try:               \n",
    "                                founded.append(browser.find_element(By.XPATH,('(//div[@class=\"d-flex flex-wrap\"]/div[@class=\"d-flex justify-content-start css-rmzuhb e1pvx6aw0\"]/span)[4]')).text)\n",
    "                        except:\n",
    "                                founded.append('nan')\n",
    "                        try:        \n",
    "                                type.append(browser.find_element(By.XPATH,('(//div[@class=\"d-flex flex-wrap\"]/div[@class=\"d-flex justify-content-start css-rmzuhb e1pvx6aw0\"]/span)[6]')).text)\n",
    "                        except:\n",
    "                                type.append(\"nan\")\n",
    "                        try:\n",
    "                                industry.append(browser.find_element(By.XPATH,('(//div[@class=\"d-flex flex-wrap\"]/div[@class=\"d-flex justify-content-start css-rmzuhb e1pvx6aw0\"]/span)[8]')).text)\n",
    "                        except:\n",
    "                                industry.append(\"nan\")\n",
    "                        try:\n",
    "                                sector.append(browser.find_element(By.XPATH,('(//div[@class=\"d-flex flex-wrap\"]/div[@class=\"d-flex justify-content-start css-rmzuhb e1pvx6aw0\"]/span)[10]')).text)\n",
    "                        except:\n",
    "                                sector.append(\"nan\")\n",
    "                        try:\n",
    "                                revenue.append(browser.find_element(By.XPATH,('(//div[@class=\"d-flex flex-wrap\"]/div[@class=\"d-flex justify-content-start css-rmzuhb e1pvx6aw0\"]/span)[12]')).text)\n",
    "                        except:\n",
    "                                revenue.append(\"nan\")\n",
    "\n",
    "\n",
    "                info= [job_titles_text, salary_text, job_description, rating_text,company_names_text,headquarters_text, size_company, founded,type,industry,sector,revenue]\n",
    "                B_data = zip_longest(*info)\n",
    "                with open('cars_avito.csv', 'a') as myFile:\n",
    "                        wr = csv.writer(myFile)\n",
    "                        wr.writerow([\"Job Title\", \"Salary Estimate\", \"Job Description\", \"Rating\",\"Company Name\", \"Location\",\n",
    "                        \"Size_company\", \"Founded\", \"Type of ownership\",\"Industry\",\"Sector\",\"Revenue\"])\n",
    "                        wr.writerows(B_data)\n",
    "\n",
    "                time.sleep(2)\n",
    "                try:\n",
    "                        browser.find_element(By.XPATH,('//span[@alt=\"Close\"]')).click() #clicking to the X.\n",
    "                        print(' x out worked')\n",
    "                except:\n",
    "                        pass\n",
    "                time.sleep(2)\n",
    "\n",
    "        except:\n",
    "                pass\n",
    "   \n",
    "    \n"
   ]
  },
  {
   "cell_type": "code",
   "execution_count": null,
   "metadata": {},
   "outputs": [],
   "source": [
    "print(salary_text)\n",
    "print(len(salary_text))"
   ]
  },
  {
   "cell_type": "code",
   "execution_count": null,
   "metadata": {},
   "outputs": [
    {
     "name": "stdout",
     "output_type": "stream",
     "text": [
      "['Sr. Data Scientist - 23-00358', 'Statistician SFCC', 'Data Scientist, Analytics', 'Data Scientist', 'Data scientist', 'Marketing Data Scientist', 'Data Scientist/Architect - SF', 'Staff Data Scientist, Growth', 'Analytical Data Scientist', 'Data Scientist', 'Data Scientist', 'Data Scientist', 'Principal Machine Learning Data Scientist', 'Data Scientist', 'Data Scientist', 'Data Scientist', 'Data Scientist, Product Analytics - Core Services', 'Data Scientist, Marketing Intelligence', 'Junior Data Scientist & Statistician (2 Year Term)', 'Data Scientist', 'Data Scientist - Time-Series Modeling', 'Data Scientist', 'Data Scientist', 'Data Scientist', 'Data Scientist, CV/NLP', 'Data Scientist', 'Staff Software Engineer, Machine Learning - Homefeed & Notifications', 'Data Analyst', 'Data Scientist', 'Data Scientist / Applied Statistician']\n",
      "30\n"
     ]
    }
   ],
   "source": [
    "print(job_titles_text)\n",
    "print(len(job_titles_text))\n"
   ]
  },
  {
   "cell_type": "code",
   "execution_count": null,
   "metadata": {},
   "outputs": [
    {
     "name": "stdout",
     "output_type": "stream",
     "text": [
      "['Akraya Inc.', 'Sutter Health', 'Parafin', 'Vision Technologies', 'Avila Trading', 'DocuSign', 'Rocket Lawyer', 'Patreon', 'Genentech', 'FLYR Labs', 'Pipe Technologies', 'FocusKPI Inc.', 'Atlassian', 'Mercury', 'Grammarly', 'Moove-it', 'Uber', 'Snowflake', 'Precision Sport Science', 'Finrise', 'The Clorox Company', 'Apixio', 'PocketPills', 'Grid', 'Ancestry', 'Kai Ming Inc', 'Discord', 'Beshton Software', 'Focal Systems', 'LaunchDarkly']\n",
      "30\n"
     ]
    }
   ],
   "source": [
    "print(company_names_text)\n",
    "print(len(company_names_text))\n"
   ]
  },
  {
   "cell_type": "code",
   "execution_count": null,
   "metadata": {},
   "outputs": [
    {
     "name": "stdout",
     "output_type": "stream",
     "text": [
      "['San Mateo, CA', 'San Francisco, CA', 'San Francisco, CA', 'Oakland, CA', 'San Francisco, CA', 'San Francisco, CA', 'San Francisco, CA', 'San Francisco, CA', 'San Francisco, CA', 'San Francisco, CA', 'San Francisco, CA', 'San Bruno, CA', 'San Francisco, CA', 'San Francisco, CA', 'San Francisco, CA', 'San Francisco, CA', 'San Francisco, CA', 'San Mateo, CA', 'Redwood City, CA', 'Burlingame, CA', 'Oakland, CA', 'San Mateo, CA', 'San Francisco, CA', 'Oakland, CA', 'San Francisco, CA', 'San Francisco, CA', 'San Francisco, CA', 'San Francisco, CA', 'Burlingame, CA', 'Oakland, CA']\n",
      "30\n"
     ]
    }
   ],
   "source": [
    "print(headquarters_text)\n",
    "print(len(headquarters_text))\n"
   ]
  },
  {
   "cell_type": "code",
   "execution_count": null,
   "metadata": {},
   "outputs": [
    {
     "name": "stdout",
     "output_type": "stream",
     "text": [
      "['4.8', '3.7', '4.4', '3.3', '3.8', '3.9', '4.2', '3.6', '4.3', '4.5', '5.0', '3.3', '4.7', '4.7', '4.6', '4.3', '4.0', '4.2', 'nan', '5.0', '3.9', '4.6', '4.2', 'nan', '3.7', '4.4', '3.9', '3.7', '4.3', '3.9']\n",
      "30\n"
     ]
    }
   ],
   "source": [
    "print(rating_text)\n",
    "print(len(rating_text))"
   ]
  },
  {
   "cell_type": "code",
   "execution_count": null,
   "metadata": {},
   "outputs": [
    {
     "name": "stdout",
     "output_type": "stream",
     "text": [
      "[<selenium.webdriver.remote.webelement.WebElement (session=\"03b3075d5696ce81921f0f024fde0d64\", element=\"d6d7a040-334b-479e-8338-d4b72af9eac7\")>, <selenium.webdriver.remote.webelement.WebElement (session=\"03b3075d5696ce81921f0f024fde0d64\", element=\"972cc877-b3f6-4ff3-aa90-9c4cabc37f10\")>, <selenium.webdriver.remote.webelement.WebElement (session=\"03b3075d5696ce81921f0f024fde0d64\", element=\"eca8747b-c09c-465e-91e2-210b7beca604\")>, <selenium.webdriver.remote.webelement.WebElement (session=\"03b3075d5696ce81921f0f024fde0d64\", element=\"ec1a9cb6-4212-4f2f-aecc-c5953e8f37e9\")>, <selenium.webdriver.remote.webelement.WebElement (session=\"03b3075d5696ce81921f0f024fde0d64\", element=\"08512aaf-c182-4479-a928-b5420e6881a3\")>, <selenium.webdriver.remote.webelement.WebElement (session=\"03b3075d5696ce81921f0f024fde0d64\", element=\"60a9949e-8838-497d-8ea9-c40ee8c7ce44\")>, <selenium.webdriver.remote.webelement.WebElement (session=\"03b3075d5696ce81921f0f024fde0d64\", element=\"f7fca251-ebff-4fba-9542-7b00681ef2be\")>, <selenium.webdriver.remote.webelement.WebElement (session=\"03b3075d5696ce81921f0f024fde0d64\", element=\"312bdc28-1b49-4658-b334-70ec42ec9c78\")>, <selenium.webdriver.remote.webelement.WebElement (session=\"03b3075d5696ce81921f0f024fde0d64\", element=\"22f50039-fb54-4dce-8440-9f01f54481e6\")>, <selenium.webdriver.remote.webelement.WebElement (session=\"03b3075d5696ce81921f0f024fde0d64\", element=\"f6e46d4e-dbe7-4ef2-bda9-3e2c8696495b\")>, <selenium.webdriver.remote.webelement.WebElement (session=\"03b3075d5696ce81921f0f024fde0d64\", element=\"d68fead4-1933-44cb-a743-e7c3958514f4\")>, <selenium.webdriver.remote.webelement.WebElement (session=\"03b3075d5696ce81921f0f024fde0d64\", element=\"ed8aab7c-e99d-495a-829b-537c27955fd6\")>, <selenium.webdriver.remote.webelement.WebElement (session=\"03b3075d5696ce81921f0f024fde0d64\", element=\"886c12a6-31e4-4362-867b-72160f804741\")>, <selenium.webdriver.remote.webelement.WebElement (session=\"03b3075d5696ce81921f0f024fde0d64\", element=\"ab6f24b4-bfcd-4e54-a0b2-8b12eddf2a1c\")>, <selenium.webdriver.remote.webelement.WebElement (session=\"03b3075d5696ce81921f0f024fde0d64\", element=\"33163191-7e9a-4a32-ab18-d00e26b00ceb\")>, <selenium.webdriver.remote.webelement.WebElement (session=\"03b3075d5696ce81921f0f024fde0d64\", element=\"de1d1b37-add6-4b77-a291-82e1e55fb31b\")>, <selenium.webdriver.remote.webelement.WebElement (session=\"03b3075d5696ce81921f0f024fde0d64\", element=\"44e8efb0-6fc2-4bd6-a205-5e1c5968e31b\")>, <selenium.webdriver.remote.webelement.WebElement (session=\"03b3075d5696ce81921f0f024fde0d64\", element=\"ce59f5e2-5ee6-4dce-8222-6a3ef4b7c487\")>, 'nan', <selenium.webdriver.remote.webelement.WebElement (session=\"03b3075d5696ce81921f0f024fde0d64\", element=\"b1b56624-0ecc-4f32-902c-0ae50ef7db91\")>, <selenium.webdriver.remote.webelement.WebElement (session=\"03b3075d5696ce81921f0f024fde0d64\", element=\"be906e13-f9e8-4d7c-b11c-7973055e4f09\")>, <selenium.webdriver.remote.webelement.WebElement (session=\"03b3075d5696ce81921f0f024fde0d64\", element=\"1e1cd913-9d8c-45a2-8e9c-ea3f136cbf2d\")>, <selenium.webdriver.remote.webelement.WebElement (session=\"03b3075d5696ce81921f0f024fde0d64\", element=\"7366c783-8b95-43f6-80ee-eeceed2b5111\")>, 'nan', <selenium.webdriver.remote.webelement.WebElement (session=\"03b3075d5696ce81921f0f024fde0d64\", element=\"2bedcfc1-7b74-4a13-80c3-5217075114ac\")>, <selenium.webdriver.remote.webelement.WebElement (session=\"03b3075d5696ce81921f0f024fde0d64\", element=\"476c15e7-cde9-4f37-8755-938dbc66154d\")>, <selenium.webdriver.remote.webelement.WebElement (session=\"03b3075d5696ce81921f0f024fde0d64\", element=\"127dbcff-2d59-413e-a21d-b25d02fcd48a\")>, <selenium.webdriver.remote.webelement.WebElement (session=\"03b3075d5696ce81921f0f024fde0d64\", element=\"f6a1c92c-a0ab-41c3-9069-4494025a941c\")>, <selenium.webdriver.remote.webelement.WebElement (session=\"03b3075d5696ce81921f0f024fde0d64\", element=\"7af8fd3a-de7d-4266-97d2-84ad2b6c49fd\")>, <selenium.webdriver.remote.webelement.WebElement (session=\"03b3075d5696ce81921f0f024fde0d64\", element=\"d1c1394c-28fe-4ec5-a3a4-c18228305073\")>]\n",
      "30\n"
     ]
    }
   ],
   "source": [
    "print(size_company)\n",
    "print(len(size_company))\n"
   ]
  },
  {
   "cell_type": "code",
   "execution_count": null,
   "metadata": {},
   "outputs": [],
   "source": []
  }
 ],
 "metadata": {
  "kernelspec": {
   "display_name": "Python 3",
   "language": "python",
   "name": "python3"
  },
  "language_info": {
   "codemirror_mode": {
    "name": "ipython",
    "version": 3
   },
   "file_extension": ".py",
   "mimetype": "text/x-python",
   "name": "python",
   "nbconvert_exporter": "python",
   "pygments_lexer": "ipython3",
   "version": "3.11.0"
  },
  "orig_nbformat": 4,
  "vscode": {
   "interpreter": {
    "hash": "5238573367df39f7286bb46f9ff5f08f63a01a80960060ce41e3c79b190280fa"
   }
  }
 },
 "nbformat": 4,
 "nbformat_minor": 2
}
